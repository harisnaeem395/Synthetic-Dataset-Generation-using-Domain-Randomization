{
 "cells": [
  {
   "cell_type": "code",
   "execution_count": null,
   "metadata": {
    "executionInfo": {
     "elapsed": 1140,
     "status": "ok",
     "timestamp": 1656408598642,
     "user": {
      "displayName": "Gaurang Sharma",
      "userId": "17361426508515029460"
     },
     "user_tz": -180
    },
    "id": "JsyHs_ebAGyy"
   },
   "outputs": [],
   "source": [
    "import detectron2\n",
    "from detectron2.utils.logger import setup_logger\n",
    "setup_logger()\n",
    "import matplotlib.pyplot as plt\n",
    "import numpy as np\n",
    "import cv2\n",
    "from detectron2.engine import DefaultPredictor\n",
    "from detectron2.config import get_cfg\n",
    "from detectron2.utils.visualizer import Visualizer\n",
    "from detectron2.data import MetadataCatalog, DatasetCatalog\n",
    "from detectron2.structures import BoxMode\n",
    "import os, json, cv2, random\n",
    "from numpy import load\n",
    "from detectron2 import model_zoo\n",
    "from detectron2.engine import DefaultTrainer\n",
    "from detectron2.utils.visualizer import ColorMode"
   ]
  },
  {
   "cell_type": "code",
   "execution_count": null,
   "metadata": {
    "executionInfo": {
     "elapsed": 13845,
     "status": "ok",
     "timestamp": 1656408867391,
     "user": {
      "displayName": "Gaurang Sharma",
      "userId": "17361426508515029460"
     },
     "user_tz": -180
    },
    "id": "al-hfHFhesuI"
   },
   "outputs": [],
   "source": [
    "classes = [\"Common line\",\"Fuel line 1\",\"Fuel line 2\",\"Fuel line 3\",\"Fuel line 4\"]\n",
    "#maxNumOfKeypoints = 16  ## give only if your dataset has keypoints\n",
    "programName = 'engine_'"
   ]
  },
  {
   "cell_type": "code",
   "execution_count": null,
   "metadata": {},
   "outputs": [],
   "source": [
    "cfg = get_cfg()\n",
    "cfg.MODEL.MASK_ON = True\n",
    "#cfg.MODEL.KEYPOINT_ON = True\n",
    "#cfg.MODEL.ROI_KEYPOINT_HEAD.NORMALIZE_LOSS_BY_VISIBLE_KEYPOINTS = True\n",
    "cfg.merge_from_file(model_zoo.get_config_file(\"COCO-Detection/faster_rcnn_R_50_FPN_3x.yaml\"))\n",
    "cfg.MODEL.ROI_HEADS.SCORE_THRESH_TEST = 0.4 # Set threshold for this model\n",
    "#cfg.MODEL.RESNETS.STEM_OUT_CHANNELS = 64\n",
    "#cfg.MODEL.RESNETS.RES2_OUT_CHANNELS = 64 \n",
    "#cfg.MODEL.RESNETS.DEPTH = 18\n",
    "#cfg.MODEL.RESNETS.OUT_FEATURES = [\"res2\"] \n",
    "#cfg.MODEL.RESNETS.DEFORM_ON_PER_STAGE = [False, False, False, False]\n",
    "#cfg.MODEL.RESNETS.NORM = \"GN\"\n",
    "cfg.MODEL.WEIGHTS = '../Dataset/output/model_final.pth' # Set path model .pth\n",
    "cfg.MODEL.ROI_HEADS.NUM_CLASSES = 5\n",
    "#cfg.MODEL.ROI_KEYPOINT_HEAD.NUM_KEYPOINTS = maxNumOfKeypoints\n",
    "predictor = DefaultPredictor(cfg)"
   ]
  },
  {
   "cell_type": "code",
   "execution_count": null,
   "metadata": {},
   "outputs": [],
   "source": [
    "import cv2\n",
    "import numpy as np\n",
    "\n",
    "all_camera_idx_available = []\n",
    "\n",
    "for camera_idx in range(-2,10):\n",
    "    print(camera_idx)\n",
    "    cap = cv2.VideoCapture(camera_idx)\n",
    "    if cap.isOpened():\n",
    "        print(camera_idx)\n",
    "        print(f'Camera index available: {camera_idx}')\n",
    "        all_camera_idx_available.append(camera_idx)\n",
    "        cap.release()"
   ]
  },
  {
   "cell_type": "code",
   "execution_count": null,
   "metadata": {},
   "outputs": [],
   "source": [
    "for d in [\"train\"]:\n",
    "    MetadataCatalog.get(programName + d).set(thing_classes=classes)\n",
    "    #MetadataCatalog.get(programName + d).set(keypoint_names = [\"kp1\",\"kp2\",\"kp3\",\"kp4\",\"kp5\",\"kp6\",\"kp7\",\"kp8\",\"kp9\",\"kp10\",\"kp11\",\"kp12\",\"kp13\",\"kp14\",\"kp15\",\"kp16\"])\n",
    "    #MetadataCatalog.get(programName + d).set(keypoint_flip_map = [])\n",
    "engine_metadata = MetadataCatalog.get(programName+\"_train\")"
   ]
  },
  {
   "cell_type": "code",
   "execution_count": null,
   "metadata": {},
   "outputs": [],
   "source": [
    "import time\n",
    "cap = cv2.VideoCapture(4)\n",
    "\n",
    "if not (cap.isOpened()):\n",
    "    print(\"Could not open video device\")\n",
    "\n",
    "cap.set(cv2.CAP_PROP_FRAME_WIDTH, 1024)\n",
    "cap.set(cv2.CAP_PROP_FRAME_HEIGHT,1024)\n",
    "prev_frame_time = time.time()\n",
    "while(True):    \n",
    "    # Capture frame-by-frame    \n",
    "    \n",
    "    ret, frame = cap.read()\n",
    "    outputs = predictor(frame)\n",
    "    \n",
    "    v = Visualizer(frame[:, :, ::-1],\n",
    "                   metadata=engine_metadata, \n",
    "                   scale=0.9,\n",
    "                   instance_mode=ColorMode.IMAGE_BW   # remove the colors of unsegmented pixels\n",
    "    )\n",
    "    v = v.draw_instance_predictions(outputs[\"instances\"].to(\"cpu\"))\n",
    "    cv2.imshow(\"prediction\",v.get_image()[:, :, ::-1])\n",
    "    \n",
    "    if cv2.waitKey(1) & 0xFF == ord('q'):    \n",
    "        break\n",
    "    \n",
    "    new_frame_time = time.time()\n",
    "    seconds = new_frame_time - prev_frame_time\n",
    "    fps = 1/(new_frame_time-prev_frame_time)\n",
    "    prev_frame_time = new_frame_time\n",
    "    print(\"fps\",fps)\n",
    "    #Waits for a user input to quit the application    \n",
    "\n",
    "    \n",
    "cap.release()\n",
    "cv2.destroyAllWindows()"
   ]
  },
  {
   "cell_type": "code",
   "execution_count": null,
   "metadata": {},
   "outputs": [],
   "source": []
  },
  {
   "cell_type": "code",
   "execution_count": null,
   "metadata": {},
   "outputs": [],
   "source": []
  },
  {
   "cell_type": "code",
   "execution_count": null,
   "metadata": {},
   "outputs": [],
   "source": []
  }
 ],
 "metadata": {
  "accelerator": "GPU",
  "colab": {
   "collapsed_sections": [],
   "name": "Detectron2.ipynb",
   "provenance": []
  },
  "gpuClass": "standard",
  "kernelspec": {
   "display_name": "Python 3 (ipykernel)",
   "language": "python",
   "name": "python3"
  },
  "language_info": {
   "codemirror_mode": {
    "name": "ipython",
    "version": 3
   },
   "file_extension": ".py",
   "mimetype": "text/x-python",
   "name": "python",
   "nbconvert_exporter": "python",
   "pygments_lexer": "ipython3",
   "version": "3.8.8"
  }
 },
 "nbformat": 4,
 "nbformat_minor": 1
}
