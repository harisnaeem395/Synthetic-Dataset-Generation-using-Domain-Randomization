{
 "cells": [
  {
   "cell_type": "code",
   "execution_count": 1,
   "metadata": {
    "executionInfo": {
     "elapsed": 1140,
     "status": "ok",
     "timestamp": 1656408598642,
     "user": {
      "displayName": "Gaurang Sharma",
      "userId": "17361426508515029460"
     },
     "user_tz": -180
    },
    "id": "JsyHs_ebAGyy"
   },
   "outputs": [],
   "source": [
    "import detectron2\n",
    "from detectron2.utils.logger import setup_logger\n",
    "setup_logger()\n",
    "\n",
    "# import some common libraries\n",
    "import matplotlib.pyplot as plt\n",
    "import numpy as np\n",
    "import cv2\n",
    "#from google.colab.patches import cv2_imshow\n",
    "\n",
    "# import some common detectron2 utilities\n",
    "from detectron2.engine import DefaultPredictor\n",
    "from detectron2.config import get_cfg\n",
    "from detectron2.utils.visualizer import Visualizer\n",
    "from detectron2.data import MetadataCatalog, DatasetCatalog\n",
    "from detectron2.structures import BoxMode\n",
    "import os, json, cv2, random\n",
    "from numpy import load\n",
    "\n",
    "from detectron2 import model_zoo\n",
    "from detectron2.engine import DefaultTrainer"
   ]
  },
  {
   "cell_type": "code",
   "execution_count": 2,
   "metadata": {
    "executionInfo": {
     "elapsed": 13845,
     "status": "ok",
     "timestamp": 1656408867391,
     "user": {
      "displayName": "Gaurang Sharma",
      "userId": "17361426508515029460"
     },
     "user_tz": -180
    },
    "id": "al-hfHFhesuI"
   },
   "outputs": [],
   "source": [
    "#NumpyarrPath = \"/content/drive/MyDrive/UnivJobData/augmentedDATA.npz\"\n",
    "JSONpath = \"../Dataset/augumentLevel1/augmentedJSON.json\"  ##Argument 1\n",
    "classes = [\"Common line\",\"Fuel line 1\",\"Fuel line 2\",\"Fuel line 3\", \"Fuel line 4\"]  ##Argument 2\n",
    "imgPath = \"../Dataset/augumentLevel1/\"  ##Argument 3\n",
    "programName = 'engine_'  ##Argument 4\n",
    "hasKeypoints = True  ##Argument 5\n",
    "hasSegmentationAndBBox = True  ##Argument 6\n",
    "onlyBBox = False  ##Argument 7\n",
    "\n",
    "if hasKeypoints == True:\n",
    "    maxNumOfKeypoints = 16  ## give only if your dataset has keypoints   ##Argument 8\n",
    "\n",
    "with open(JSONpath) as f:\n",
    "    imgs_anns = json.load(f)"
   ]
  },
  {
   "cell_type": "markdown",
   "metadata": {},
   "source": [
    "### Without segmentations\n",
    "def get_dicts(img_dir,imgs_anns,hasKeypoints,hasSegmentationAndBBox,onlyBBox):\n",
    "    dataset_dicts = []\n",
    "    for idx, v in enumerate(imgs_anns):\n",
    "      record = {}\n",
    "      filename = os.path.join(img_dir, v[\"image\"])\n",
    "      height, width = cv2.imread(filename).shape[:2]\n",
    "      record[\"file_name\"] = filename\n",
    "      record[\"image_id\"] = idx\n",
    "      record[\"height\"] = height\n",
    "      record[\"width\"] = width\n",
    "\n",
    "      #### code for key points start ###\n",
    "      if \"kp-1\" in v:\n",
    "        print(\"hello\")\n",
    "        kps = v[\"kp-1\"]\n",
    "        obkps=[]\n",
    "        countOfKeypoints = len(kps)\n",
    "        for _, kp in enumerate(kps):\n",
    "          x_kp = kp[\"x\"] * width/100\n",
    "          y_kp = kp[\"y\"] * height/100\n",
    "          v_kp = 1 #look at keypoints, it is not visible but labeled\n",
    "          obkps.append(x_kp)\n",
    "          obkps.append(y_kp)\n",
    "          obkps.append(v_kp)\n",
    "        \n",
    "        if countOfKeypoints < maxNumOfKeypoints:\n",
    "          for kp in range(0,(maxNumOfKeypoints-countOfKeypoints)):\n",
    "            obkps.append(0)\n",
    "            obkps.append(0)\n",
    "            obkps.append(0)\n",
    "      #else:  ## Remove if your dataset does not have keypoints\n",
    "      #  obkps=[]\n",
    "      #  for kp in range(0,maxNumOfKeypoints):\n",
    "      #    obkps.append(0)\n",
    "      #    obkps.append(0)\n",
    "      #    obkps.append(0)\n",
    "        #### code for key points ends ###\n",
    "      if \"label\" in v:\n",
    "        annos = v[\"label\"]\n",
    "      objs = []\n",
    "      noSegmentationPoints = 0\n",
    "      for _, anno in enumerate(annos):\n",
    "        if \"label\" in v:              \n",
    "          getPoints = np.array(anno[\"points\"])\n",
    "          if len(getPoints) != 0:\n",
    "            getPoints[:,0] = getPoints[:,0] * width/100\n",
    "            getPoints[:,1] = getPoints[:,1] * height/100\n",
    "            px = getPoints[:,0]\n",
    "            py = getPoints[:,1]\n",
    "            poly = (getPoints.flatten()).tolist()\n",
    "          else:\n",
    "            noSegmentationPoints = 1\n",
    "\n",
    "        for ind in range(0,len(classes)):\n",
    "          if anno[\"polygonlabels\"][0] == classes[ind]:\n",
    "            catId= ind        \n",
    "        if (\"kp-1\" in v) and (\"label\" in v) and (noSegmentationPoints == 0):\n",
    "          obj = {\n",
    "              \"bbox\": [np.min(px), np.min(py), np.max(px), np.max(py)],\n",
    "              \"bbox_mode\": BoxMode.XYXY_ABS,\n",
    "              \"segmentation\": [],\n",
    "              \"category_id\": catId,\n",
    "              \"keypoints\": obkps,\n",
    "          }\n",
    "        elif (\"label\" in v) and (noSegmentationPoints == 0):\n",
    "          obj = {\n",
    "              \"bbox\": [np.min(px), np.min(py), np.max(px), np.max(py)],\n",
    "              \"bbox_mode\": BoxMode.XYXY_ABS,\n",
    "              \"segmentation\": [poly],\n",
    "              \"category_id\": catId,\n",
    "              \"keypoints\": [],\n",
    "          }\n",
    "        elif (\"kp-1\" in v) and (noSegmentationPoints == 1):\n",
    "          obj = {\n",
    "              \"keypoints\": obkps,\n",
    "              \"segmentation\": [],\n",
    "              \"bbox\": [],\n",
    "              \"bbox_mode\": BoxMode.XYXY_ABS,\n",
    "              \"category_id\": []\n",
    "          }\n",
    "        elif (\"kp-1\" in v) and (\"label\" in v) and (noSegmentationPoints == 1):\n",
    "          obj = {\n",
    "              \"keypoints\": obkps,\n",
    "              \"segmentation\": [],\n",
    "              \"bbox\": BoxMode.XYXY_ABS,\n",
    "              \"bbox_mode\": BoxMode.XYXY_ABS,\n",
    "              \"category_id\": catId\n",
    "          }\n",
    "        objs.append(obj)\n",
    "      record[\"annotations\"] = objs\n",
    "      dataset_dicts.append(record)\n",
    "    return dataset_dicts\n"
   ]
  },
  {
   "cell_type": "code",
   "execution_count": 3,
   "metadata": {
    "executionInfo": {
     "elapsed": 259,
     "status": "ok",
     "timestamp": 1656408870010,
     "user": {
      "displayName": "Gaurang Sharma",
      "userId": "17361426508515029460"
     },
     "user_tz": -180
    },
    "id": "TmAnaXn_AG1i"
   },
   "outputs": [],
   "source": [
    "#def get_dicts(Images,imgs_anns,hasKeypoints,hasSegmentationAndBBox,onlyBBox):\n",
    "def get_dicts(img_dir,imgs_anns,hasKeypoints,hasSegmentationAndBBox,onlyBBox):\n",
    "    dataset_dicts = []\n",
    "    for idx, v in enumerate(imgs_anns):\n",
    "      record = {}\n",
    "      filename = os.path.join(img_dir, v[\"image\"])\n",
    "      height, width = cv2.imread(filename).shape[:2]\n",
    "      record[\"file_name\"] = filename\n",
    "      record[\"image_id\"] = idx\n",
    "      record[\"height\"] = height\n",
    "      record[\"width\"] = width\n",
    "\n",
    "      #### code for key points start ###\n",
    "      if (\"kp-1\" in v) and (hasKeypoints == True):\n",
    "        kps = v[\"kp-1\"]\n",
    "        obkps=[]\n",
    "        countOfKeypoints = len(kps)\n",
    "        for _, kp in enumerate(kps):\n",
    "          x_kp = kp[\"x\"] * width/100\n",
    "          y_kp = kp[\"y\"] * height/100\n",
    "          v_kp = 1 #look at keypoints, it is not visible but labeled\n",
    "          obkps.append(x_kp)\n",
    "          obkps.append(y_kp)\n",
    "          obkps.append(v_kp)\n",
    "        \n",
    "        if countOfKeypoints < maxNumOfKeypoints:\n",
    "          for kp in range(0,(maxNumOfKeypoints-countOfKeypoints)):\n",
    "            obkps.append(0)\n",
    "            obkps.append(0)\n",
    "            obkps.append(0)\n",
    "      elif hasKeypoints == True:  ## Remove if your dataset does not have keypoints\n",
    "        obkps=[]\n",
    "        for kp in range(0,maxNumOfKeypoints):\n",
    "          obkps.append(0)\n",
    "          obkps.append(0)\n",
    "          obkps.append(0)\n",
    "        #### code for key points ends ###\n",
    "      if \"label\" in v and (hasSegmentationAndBBox == True):\n",
    "        annos = v[\"label\"]\n",
    "      objs = []\n",
    "      noSegmentationPoints = 0\n",
    "      for _, anno in enumerate(annos):\n",
    "        if \"label\" in v:              \n",
    "          getPoints = np.array(anno[\"points\"])\n",
    "          if len(getPoints) != 0:\n",
    "            getPoints[:,0] = getPoints[:,0] * width/100\n",
    "            getPoints[:,1] = getPoints[:,1] * height/100\n",
    "            px = getPoints[:,0]\n",
    "            py = getPoints[:,1]\n",
    "            poly = (getPoints.flatten()).tolist()\n",
    "          else:\n",
    "            noSegmentationPoints = 1   ## If any image does not contains segmentations\n",
    "\n",
    "        for ind in range(0,len(classes)):\n",
    "          if anno[\"polygonlabels\"][0] == classes[ind]:\n",
    "            catId= ind        \n",
    "        if (\"kp-1\" in v) and (\"label\" in v) and (noSegmentationPoints == 0):\n",
    "          obj = {\n",
    "              \"bbox\": [np.min(px), np.min(py), np.max(px), np.max(py)],\n",
    "              \"bbox_mode\": BoxMode.XYXY_ABS,\n",
    "              \"segmentation\": [poly],\n",
    "              \"category_id\": catId,\n",
    "              \"keypoints\": obkps,\n",
    "          }\n",
    "        elif (\"label\" in v) and (noSegmentationPoints == 0) and (onlyBBox == False) and (hasSegmentationAndBBox == True):\n",
    "          obj = {\n",
    "              \"bbox\": [np.min(px), np.min(py), np.max(px), np.max(py)],\n",
    "              \"bbox_mode\": BoxMode.XYXY_ABS,\n",
    "              \"segmentation\": [poly],\n",
    "              \"category_id\": catId,\n",
    "              \"keypoints\": [],\n",
    "          }\n",
    "        elif (\"label\" in v) and (noSegmentationPoints == 0) and onlyBBox == True:\n",
    "          obj = {\n",
    "              \"bbox\": [np.min(px), np.min(py), np.max(px), np.max(py)],\n",
    "              \"bbox_mode\": BoxMode.XYXY_ABS,\n",
    "              \"segmentation\": [],\n",
    "              \"category_id\": catId,\n",
    "              \"keypoints\": [],\n",
    "          }\n",
    "        elif (\"kp-1\" in v) and (noSegmentationPoints == 1):\n",
    "          obj = {\n",
    "              \"keypoints\": obkps,\n",
    "              \"segmentation\": [],\n",
    "              \"bbox\": [],\n",
    "              \"bbox_mode\": BoxMode.XYXY_ABS,\n",
    "              \"category_id\": []\n",
    "          }\n",
    "        elif (\"kp-1\" in v) and (\"label\" in v) and (noSegmentationPoints == 1):\n",
    "          obj = {\n",
    "              \"keypoints\": obkps,\n",
    "              \"segmentation\": [],\n",
    "              \"bbox\": BoxMode.XYXY_ABS,\n",
    "              \"bbox_mode\": BoxMode.XYXY_ABS,\n",
    "              \"category_id\": catId\n",
    "          }\n",
    "        objs.append(obj)\n",
    "      record[\"annotations\"] = objs\n",
    "      dataset_dicts.append(record)\n",
    "    return dataset_dicts\n"
   ]
  },
  {
   "cell_type": "code",
   "execution_count": 4,
   "metadata": {
    "executionInfo": {
     "elapsed": 253,
     "status": "ok",
     "timestamp": 1656408877087,
     "user": {
      "displayName": "Gaurang Sharma",
      "userId": "17361426508515029460"
     },
     "user_tz": -180
    },
    "id": "9pvOWXWw5QrU"
   },
   "outputs": [],
   "source": [
    "for d in [\"train\"]:\n",
    "    DatasetCatalog.register(programName + d, lambda d=d: get_dicts(imgPath,imgs_anns,hasKeypoints,hasSegmentationAndBBox,onlyBBox))\n",
    "    MetadataCatalog.get(programName + d).set(thing_classes=classes)\n",
    "    MetadataCatalog.get(programName + d).set(keypoint_names = [\"kp1\",\"kp2\",\"kp3\",\"kp4\",\"kp5\",\"kp6\",\"kp7\",\"kp8\",\"kp9\",\"kp10\",\"kp11\",\"kp12\",\"kp13\",\"kp14\",\"kp15\",\"kp16\"])\n",
    "    MetadataCatalog.get(programName + d).set(keypoint_flip_map = [])\n",
    "engine_metadata = MetadataCatalog.get(programName+\"_train\")"
   ]
  },
  {
   "cell_type": "code",
   "execution_count": 5,
   "metadata": {},
   "outputs": [],
   "source": [
    "for d in random.sample(get_dicts(imgPath,imgs_anns,hasKeypoints,hasSegmentationAndBBox,onlyBBox), 2):\n",
    "#for d in dataset_dicts:\n",
    "    img = cv2.imread(d[\"file_name\"])\n",
    "    visualizer = Visualizer(img[:, :, ::-1], metadata=engine_metadata, scale=0.5)\n",
    "    out = visualizer.draw_dataset_dict(d)\n",
    "    cv2.imshow(\"output\",out.get_image()[:, :, ::-1])\n",
    "    cv2.waitKey(0)\n",
    "    cv2.destroyAllWindows()"
   ]
  },
  {
   "cell_type": "code",
   "execution_count": null,
   "metadata": {
    "colab": {
     "base_uri": "https://localhost:8080/"
    },
    "executionInfo": {
     "elapsed": 1513713,
     "status": "ok",
     "timestamp": 1656412098123,
     "user": {
      "displayName": "Gaurang Sharma",
      "userId": "17361426508515029460"
     },
     "user_tz": -180
    },
    "id": "kp48YrAj5h2M",
    "outputId": "fa2a811f-dcee-4e7a-a55b-8f9251d51924"
   },
   "outputs": [],
   "source": [
    "cfg = get_cfg()\n",
    "\n",
    "cfg.merge_from_file(model_zoo.get_config_file(\"COCO-Detection/faster_rcnn_R_50_FPN_3x.yaml\"))\n",
    "cfg.MODEL.WEIGHTS = model_zoo.get_checkpoint_url(\"COCO-Detection/faster_rcnn_R_50_FPN_3x.yaml\")\n",
    "\n",
    "cfg.DATASETS.TRAIN = (programName+\"train\",)\n",
    "cfg.MODEL.MASK_ON = True\n",
    "#cfg.MODEL.KEYPOINT_ON = True\n",
    "cfg.DATASETS.TEST = ()  \n",
    "cfg.DATALOADER.NUM_WORKERS = 2\n",
    "\n",
    "cfg.SOLVER.IMS_PER_BATCH = 2\n",
    "#cfg.MODEL.BACKBONE.FREEZE_AT = 2\n",
    "cfg.SOLVER.BASE_LR = 0.0004\n",
    "cfg.SOLVER.WEIGHT_DECAY = 0.0001\n",
    "cfg.SOLVER.GAMMA = 0.008\n",
    "cfg.SOLVER.MOMENTUM = 0.95\n",
    "cfg.SOLVER.MAX_ITER = 1500\n",
    "cfg.MODEL.ROI_HEADS.BATCH_SIZE_PER_IMAGE = 100   # faster, and good enough for this toy dataset\n",
    "cfg.MODEL.ROI_HEADS.NUM_CLASSES = len(classes)\n",
    "#cfg.MODEL.SEM_SEG_HEAD.NORM = \"GN\"\n",
    "#cfg.MODEL.SEM_SEG_HEAD.NUM_CLASSES = 4\n",
    "#cfg.MODEL.ROI_KEYPOINT_HEAD.NORMALIZE_LOSS_BY_VISIBLE_KEYPOINTS = True\n",
    "cfg.MODEL.ROI_KEYPOINT_HEAD.LOSS_WEIGHT = 1.0\n",
    "#cfg.MODEL.ROI_KEYPOINT_HEAD.NUM_KEYPOINTS = maxNumOfKeypoints\n",
    "#cfg.TEST.KEYPOINT_OKS_SIGMAS = np.ones((maxNumOfKeypoints, 1), dtype=float).tolist()\n",
    "\n",
    "cfg.OUTPUT_DIR = \"../Dataset/output\"\n",
    "os.makedirs(cfg.OUTPUT_DIR, exist_ok=True)\n",
    "trainer = DefaultTrainer(cfg) \n",
    "trainer.resume_or_load(resume=False)\n",
    "trainer.train()"
   ]
  },
  {
   "cell_type": "code",
   "execution_count": null,
   "metadata": {
    "colab": {
     "base_uri": "https://localhost:8080/"
    },
    "executionInfo": {
     "elapsed": 2311,
     "status": "ok",
     "timestamp": 1656412637311,
     "user": {
      "displayName": "Gaurang Sharma",
      "userId": "17361426508515029460"
     },
     "user_tz": -180
    },
    "id": "xWZGhUrPAG_F",
    "outputId": "bf041f57-7943-4dec-c82f-0a3a2ef52b06"
   },
   "outputs": [],
   "source": [
    "# set the testing threshold for this model\n",
    "#cfg.OUTPUT_DIR = \"../Dataset/outputv2\"\n",
    "cfg.MODEL.WEIGHTS = os.path.join(cfg.OUTPUT_DIR, \"model_final.pth\")"
   ]
  },
  {
   "cell_type": "code",
   "execution_count": null,
   "metadata": {},
   "outputs": [],
   "source": [
    "cfg.MODEL.ROI_HEADS.SCORE_THRESH_TEST = 0.9\n",
    "predictor = DefaultPredictor(cfg)"
   ]
  },
  {
   "cell_type": "code",
   "execution_count": null,
   "metadata": {
    "id": "ayZX8XY0AHGC"
   },
   "outputs": [],
   "source": []
  },
  {
   "cell_type": "code",
   "execution_count": null,
   "metadata": {
    "id": "9he3rhmdAHIh"
   },
   "outputs": [],
   "source": []
  }
 ],
 "metadata": {
  "accelerator": "GPU",
  "colab": {
   "collapsed_sections": [],
   "name": "Detectron2.ipynb",
   "provenance": []
  },
  "gpuClass": "standard",
  "kernelspec": {
   "display_name": "Python 3 (ipykernel)",
   "language": "python",
   "name": "python3"
  },
  "language_info": {
   "codemirror_mode": {
    "name": "ipython",
    "version": 3
   },
   "file_extension": ".py",
   "mimetype": "text/x-python",
   "name": "python",
   "nbconvert_exporter": "python",
   "pygments_lexer": "ipython3",
   "version": "3.8.8"
  }
 },
 "nbformat": 4,
 "nbformat_minor": 1
}
